{
  "nbformat": 4,
  "nbformat_minor": 0,
  "metadata": {
    "kernelspec": {
      "display_name": "Python 3",
      "language": "python",
      "name": "python3"
    },
    "varInspector": {
      "cols": {
        "lenName": 16,
        "lenType": 16,
        "lenVar": 40
      },
      "kernels_config": {
        "python": {
          "delete_cmd_postfix": "",
          "delete_cmd_prefix": "del ",
          "library": "var_list.py",
          "varRefreshCmd": "print(var_dic_list())"
        },
        "r": {
          "delete_cmd_postfix": ") ",
          "delete_cmd_prefix": "rm(",
          "library": "var_list.r",
          "varRefreshCmd": "cat(var_dic_list()) "
        }
      },
      "types_to_exclude": [
        "module",
        "function",
        "builtin_function_or_method",
        "instance",
        "_Feature"
      ],
      "window_display": true
    },
    "colab": {
      "name": "Graduate Admissions Workshop",
      "provenance": [],
      "collapsed_sections": [],
      "include_colab_link": true
    }
  },
  "cells": [
    {
      "cell_type": "markdown",
      "metadata": {
        "id": "view-in-github",
        "colab_type": "text"
      },
      "source": [
        "<a href=\"https://colab.research.google.com/github/francofreche/DSWorkshop/blob/main/Graduate_Admissions_Workshop.ipynb\" target=\"_parent\"><img src=\"https://colab.research.google.com/assets/colab-badge.svg\" alt=\"Open In Colab\"/></a>"
      ]
    },
    {
      "cell_type": "markdown",
      "metadata": {
        "id": "mmWu2JwQK-iy"
      },
      "source": [
        "© 2022 Zaka AI, Inc. All Rights Reserved"
      ]
    },
    {
      "cell_type": "markdown",
      "metadata": {
        "id": "QwkwDH0H3ybp"
      },
      "source": [
        "# Graduate Admissions\n",
        "In this workshop, we will try to predict the chance of admissions (ranging from 0 to 1) for students during their application for a Masters program. Prediction is based on several parameters, including:\n",
        "  - GRE Scores ( out of 340 )\n",
        "  - TOEFL Scores ( out of 120 )\n",
        "  - University Rating ( out of 5 )\n",
        "  - Statement of Purpose ( out of 5 )\n",
        "  - Letter of Recommendation Strength ( out of 5 )\n",
        "  - Undergraduate GPA ( out of 10 )\n",
        "  - Research Experience ( either 'yes' or 'no' )"
      ]
    },
    {
      "cell_type": "markdown",
      "metadata": {
        "id": "wvJ2Zb483ybp"
      },
      "source": [
        "## 1. Import necessary python modules (libraries)\n",
        "We will need the following libraries:\n",
        " - Numpy — for scientific computing (e.g., linear algebra (vectors & matrices)).\n",
        " - Pandas — providing high-performance, easy-to-use data reading, manipulation, and analysis.\n",
        " - Matplotlib & seaborn — plotting & visualization.\n",
        " - scikit-learn — a tool for data mining and machine learning models."
      ]
    },
    {
      "cell_type": "code",
      "metadata": {
        "id": "wBM8l1Cp3ybq"
      },
      "source": [
        "import numpy as np\n",
        "import pandas as pd\n",
        "import matplotlib.pyplot as plt\n",
        "import seaborn as sns"
      ],
      "execution_count": null,
      "outputs": []
    },
    {
      "cell_type": "markdown",
      "metadata": {
        "id": "VoYPhmcE3ybs"
      },
      "source": [
        "## 2. Download the data\n",
        "Dataset can be found on Kaggle. For simplicity, it has been uploaded to Github. Link is provided for you in the cell below. Let's download our data from Github."
      ]
    },
    {
      "cell_type": "code",
      "metadata": {
        "id": "zRPsd0f43ybs"
      },
      "source": [
        "!git clone https://github.com/zaka-ai/graduates-admission-workshop.git"
      ],
      "execution_count": null,
      "outputs": []
    },
    {
      "cell_type": "markdown",
      "metadata": {
        "id": "BviEAQm73ybu"
      },
      "source": [
        "## 3. Read & visualize data\n",
        "Data now is stored on disk in a csv (Comma Separated Values) file. To load the data to our code, we use **pandas** module, more specifically, the **read_csv** function."
      ]
    },
    {
      "cell_type": "code",
      "metadata": {
        "id": "SzKD5C3N3ybv"
      },
      "source": [
        "dataset_path = ______\n",
        "\n",
        "# read dataset from disk\n",
        "data = pd.read_csv(___)  \n",
        "\n",
        "# print first 5 rows\n",
        "data.____  "
      ],
      "execution_count": null,
      "outputs": []
    },
    {
      "cell_type": "markdown",
      "metadata": {
        "id": "iSysi_ii3ybw"
      },
      "source": [
        "## 4. Exploratory Data Analysis\n",
        "Let's dig deeper & understand out data"
      ]
    },
    {
      "cell_type": "markdown",
      "metadata": {
        "id": "9SrDGfxf3ybx"
      },
      "source": [
        "**Task x:** how many rows & columns in our dataset"
      ]
    },
    {
      "cell_type": "code",
      "metadata": {
        "id": "NZsL20y53ybx"
      },
      "source": [
        "n_rows = data.____\n",
        "n_columns = data._____\n",
        "\n",
        "print('There are {} rows and {} columns.'.format(n_rows,n_columns))"
      ],
      "execution_count": null,
      "outputs": []
    },
    {
      "cell_type": "markdown",
      "metadata": {
        "id": "yx7U9L683yby"
      },
      "source": [
        "using the function **info()**, we can check:\n",
        " - data types (int, float, or object (e.g., string))\n",
        " - missing values\n",
        " - memory usage\n",
        " - number of rows and columns"
      ]
    },
    {
      "cell_type": "code",
      "metadata": {
        "id": "jLCJBdTr3ybz"
      },
      "source": [
        "data.info()"
      ],
      "execution_count": null,
      "outputs": []
    },
    {
      "cell_type": "markdown",
      "metadata": {
        "id": "9_wUIHIb3yb1"
      },
      "source": [
        "### Some statistics\n",
        "using the function **describe()**, we can check the mean, standard deviation, maximum, and minimum of each feature (column)"
      ]
    },
    {
      "cell_type": "code",
      "metadata": {
        "id": "7ZbAh4hB3yb1"
      },
      "source": [
        "data.describe()"
      ],
      "execution_count": null,
      "outputs": []
    },
    {
      "cell_type": "markdown",
      "metadata": {
        "id": "zoPo8Iyi3yb2"
      },
      "source": [
        "### Data Visualization"
      ]
    },
    {
      "cell_type": "markdown",
      "metadata": {
        "id": "OxMMxAF53yb3"
      },
      "source": [
        "#### GRE Score:\n",
        "**Task x:** plot a histogram shows the frequency for GRE scores."
      ]
    },
    {
      "cell_type": "code",
      "metadata": {
        "id": "L-pD_krk3yb3"
      },
      "source": [
        "data[\"GRE Score\"]._______\n",
        "plt.title(\"GRE Scores\")\n",
        "plt.xlabel(\"GRE Score\")\n",
        "plt.ylabel(\"Frequency\")\n",
        "plt.show()"
      ],
      "execution_count": null,
      "outputs": []
    },
    {
      "cell_type": "markdown",
      "metadata": {
        "id": "866i6qC13yb4"
      },
      "source": [
        "There is a density between 310 and 330. Being above this range would be a good feature for a candidate to stand out."
      ]
    },
    {
      "cell_type": "markdown",
      "metadata": {
        "id": "HMz6sfEx3yb6"
      },
      "source": [
        "#### CGPA Scores VS University Ratings:\n",
        "**Task x:** what is the relation between the rating of the university and CGPA? Let's plot a **scatter** plot to find out."
      ]
    },
    {
      "cell_type": "code",
      "metadata": {
        "id": "w5ba9Omx3yb6"
      },
      "source": [
        "plt.______\n",
        "plt.title(\"CGPA Scores for University Ratings\")\n",
        "plt.xlabel(\"University Rating\")\n",
        "plt.ylabel(\"CGPA\")\n",
        "plt.show()"
      ],
      "execution_count": null,
      "outputs": []
    },
    {
      "cell_type": "markdown",
      "metadata": {
        "id": "rAo0rEcC3yb7"
      },
      "source": [
        "**Conclusion >>** As the quality of the university increases, the CGPA score increases."
      ]
    },
    {
      "cell_type": "markdown",
      "metadata": {
        "id": "4VbYNlfn3yb9"
      },
      "source": [
        "#### Correlation between GRE VS CGPA Scores:\n",
        "**Task x:** Let's plot a **scatter** plot to find out how GRE and CGPA Scores are correlated."
      ]
    },
    {
      "cell_type": "code",
      "metadata": {
        "id": "-At8HTFY3yb-"
      },
      "source": [
        "data._______\n",
        "plt.title(\"CGPA for GRE Scores\")\n",
        "plt.xlabel(\"GRE Score\")\n",
        "plt.ylabel(\"CGPA\")\n",
        "plt.show()"
      ],
      "execution_count": null,
      "outputs": []
    },
    {
      "cell_type": "markdown",
      "metadata": {
        "id": "d2XLCA0t3yb_"
      },
      "source": [
        "**Conclusion >>** Candidates with high GRE scores usually have a high CGPA score."
      ]
    },
    {
      "cell_type": "markdown",
      "metadata": {
        "id": "CNUpi7m53ycB"
      },
      "source": [
        "#### Does University Rating increase chance of admit?"
      ]
    },
    {
      "cell_type": "code",
      "metadata": {
        "id": "VWJ0R3Jy3ycC"
      },
      "source": [
        "condition = data[\"Chance of Admit\"] >= 0.75\n",
        "s = data[condition][\"University Rating\"].value_counts()\n",
        "plt.title(\"University Ratings of Candidates with an 75% acceptance chance\")\n",
        "s.plot(kind='bar',figsize=(10, 6))\n",
        "plt.xlabel(\"University Rating\")\n",
        "plt.ylabel(\"Candidates\")\n",
        "plt.show()"
      ],
      "execution_count": null,
      "outputs": []
    },
    {
      "cell_type": "markdown",
      "metadata": {
        "id": "WD7LujSq3ycD"
      },
      "source": [
        "**Conclusion >>** Candidates who graduate from good universities are more fortunate to be accepted."
      ]
    },
    {
      "cell_type": "markdown",
      "metadata": {
        "id": "3vlLYjeE3ycG"
      },
      "source": [
        "#### Correlation between CGPA, GRE, and POS"
      ]
    },
    {
      "cell_type": "code",
      "metadata": {
        "id": "hohAE1R93ycH"
      },
      "source": [
        "plt.figure(figsize=(12,6))\n",
        "plt.scatter(x = data['GRE Score'],\n",
        "            y = data['CGPA'],\n",
        "            s = data['SOP']*55,\n",
        "            c = data['SOP'],\n",
        "            alpha=0.4,\n",
        "            edgecolors='w')\n",
        "\n",
        "plt.xlabel('GRE Score')\n",
        "plt.ylabel('CGPA')\n",
        "plt.title('Correlation between CGPA, GRE, and POS')\n",
        "plt.colorbar()\n",
        "plt.show()"
      ],
      "execution_count": null,
      "outputs": []
    },
    {
      "cell_type": "markdown",
      "metadata": {
        "id": "-DuJp9zq3ycJ"
      },
      "source": [
        "**Conclusion >>** Candidates with high GRE and CGPA scores write better Statement of Purpose!"
      ]
    },
    {
      "cell_type": "markdown",
      "metadata": {
        "id": "JSkZvsGZ3ycL"
      },
      "source": [
        "#### Correlation between all columns\n",
        "**Task x:** Let's find out which parameters affect addmissions the most by finding correlations."
      ]
    },
    {
      "cell_type": "code",
      "metadata": {
        "id": "UKVUV1MH3ycL"
      },
      "source": [
        "fig,ax = plt.subplots(figsize=(10, 10))\n",
        "sns.heatmap(data.corr(), annot=True, fmt='.2f', ax=ax) # annot=True prints correlation values inside the heatmap, fmt='.2f' prints only two decimal numbers\n",
        "plt.show()"
      ],
      "execution_count": null,
      "outputs": []
    },
    {
      "cell_type": "markdown",
      "metadata": {
        "id": "QkTu-Vc33ycM"
      },
      "source": [
        "The 3 most important features for admission to the Master: CGPA, GRE SCORE, and TOEFL SCORE\n",
        "\n",
        "The 3 least important features for admission to the Master: Research, LOR, and SOP"
      ]
    },
    {
      "cell_type": "markdown",
      "metadata": {
        "id": "tqPTvaEC3ycM"
      },
      "source": [
        "## 5. Preprocessing\n",
        "\"Garbage in, garbage out\". Data should be preprocessed and cleaned to get rid of noisy data. Preprocessing includes:\n",
        " - dealing with missing data\n",
        "   - remove whole rows (if they are not a lot)\n",
        "   - infer (e.g., date of birth & age)\n",
        "   - fill with mean, median, or even 0\n",
        " - convert categorical (non numerical) data into numerical\n",
        " - normalization: standarize data ranges for all features (e.g., between 0 and 1)"
      ]
    },
    {
      "cell_type": "markdown",
      "metadata": {
        "id": "d4ezI8rC3ycN"
      },
      "source": [
        "**Task x:** drop rows with missing values"
      ]
    },
    {
      "cell_type": "code",
      "metadata": {
        "id": "MAVlG7A-3ycN"
      },
      "source": [
        "# print how many missing value in each column (feature)\n",
        "data.isnull().sum()"
      ],
      "execution_count": null,
      "outputs": []
    },
    {
      "cell_type": "code",
      "metadata": {
        "id": "XXDmojhJ3ycP"
      },
      "source": [
        "# drop rows with missing values\n",
        "data = data.dropna()\n",
        "data.isnull().sum()"
      ],
      "execution_count": null,
      "outputs": []
    },
    {
      "cell_type": "code",
      "metadata": {
        "id": "Gtpk5z2a3ycQ"
      },
      "source": [
        "data.info()"
      ],
      "execution_count": null,
      "outputs": []
    },
    {
      "cell_type": "markdown",
      "metadata": {
        "id": "WI_1F5O63ycS"
      },
      "source": [
        "**Task x:** convert Research column to numerical values: 1 if yes, 0 if no"
      ]
    },
    {
      "cell_type": "code",
      "metadata": {
        "id": "oXl381tu3ycS"
      },
      "source": [
        "research = {'no':0, 'yes':1}\n",
        "data['Research'] = _________\n",
        "data.head()"
      ],
      "execution_count": null,
      "outputs": []
    },
    {
      "cell_type": "markdown",
      "metadata": {
        "id": "xm49dqPN3ycT"
      },
      "source": [
        "**Task x:** normalize by dividing by maximum"
      ]
    },
    {
      "cell_type": "code",
      "metadata": {
        "id": "FYFC6Tr03ycU"
      },
      "source": [
        "# get the max of each column\n",
        "df_max = data.___\n",
        "df_max"
      ],
      "execution_count": null,
      "outputs": []
    },
    {
      "cell_type": "code",
      "metadata": {
        "id": "eiWYGx3S3ycV"
      },
      "source": [
        "# divide each column by its maximum value\n",
        "data = data.____\n",
        "data.describe()"
      ],
      "execution_count": null,
      "outputs": []
    },
    {
      "cell_type": "markdown",
      "metadata": {
        "id": "sDq8QWol3ycW"
      },
      "source": [
        "**Task x:** split data into training (80%) & testing (20%)"
      ]
    },
    {
      "cell_type": "code",
      "metadata": {
        "id": "odCAGfWa3ycW"
      },
      "source": [
        "from sklearn.model_selection import train_test_split\n",
        "\n",
        "# store all columns (excpet first & last one) as inputs in X\n",
        "X = data.iloc[:,1:-1].values\n",
        "\n",
        "# store the last column as the output (label) in y\n",
        "y = data.iloc[:,-1].values  \n",
        "\n",
        "x_train, x_test, y_train, y_test = _________\n",
        "\n",
        "print(x_train.shape, y_train.shape)\n",
        "print(x_test.shape, y_test.shape)"
      ],
      "execution_count": null,
      "outputs": []
    },
    {
      "cell_type": "markdown",
      "metadata": {
        "id": "d_gTYDJS3ycX"
      },
      "source": [
        "## 5. Training & Evaluation\n",
        "For evaluation, we will use R^2:\n",
        " - the higher R^2, the better.\n",
        " - the best R^2 is 1\n",
        " - R^2 can be negative."
      ]
    },
    {
      "cell_type": "markdown",
      "metadata": {
        "id": "wQuxB7DP3ycY"
      },
      "source": [
        "#### Train on training data only\n",
        "**Task x:** train the model using the training data"
      ]
    },
    {
      "cell_type": "code",
      "metadata": {
        "id": "ghWiquX03ycY"
      },
      "source": [
        "from sklearn.linear_model import LinearRegression\n",
        "from sklearn.metrics import r2_score\n",
        "\n",
        "# define our regression model\n",
        "model = ______\n",
        "\n",
        "# train our model\n",
        "model.______  \n",
        "print('Model trained!')\n",
        "\n",
        "r2_train = r2_score(y_train, model.predict(x_train))\n",
        "print('R^2 on training data is', r2_train)"
      ],
      "execution_count": null,
      "outputs": []
    },
    {
      "cell_type": "markdown",
      "metadata": {
        "id": "q50gNHtz3yca"
      },
      "source": [
        "#### Evaluate model performace on unseen (test) data"
      ]
    },
    {
      "cell_type": "code",
      "metadata": {
        "id": "epGGHWtc3yca"
      },
      "source": [
        "r2_test = r2_score(y_test, model.predict(x_test))\n",
        "print('R^2 on test data is', r2_test)"
      ],
      "execution_count": null,
      "outputs": []
    },
    {
      "cell_type": "markdown",
      "metadata": {
        "id": "EHIziy723ycc"
      },
      "source": [
        "R^2 for traing is close from R^2 for test (unseen) data >> model is generalizing & performing well :)"
      ]
    },
    {
      "cell_type": "markdown",
      "metadata": {
        "id": "N9TLWgHv3ycc"
      },
      "source": [
        "#### Features importance (weights)"
      ]
    },
    {
      "cell_type": "code",
      "metadata": {
        "id": "XVVsiQDN3ycc"
      },
      "source": [
        "columns_names = data.columns[1:-1].values\n",
        "features_importance = model.coef_\n",
        "plt.barh(columns_names, features_importance)\n",
        "plt.title('Features Importance')\n",
        "plt.xlabel('importance')\n",
        "plt.ylabel('feature')\n",
        "plt.show()"
      ],
      "execution_count": null,
      "outputs": []
    },
    {
      "cell_type": "markdown",
      "metadata": {
        "id": "Enbnyh1a3yce"
      },
      "source": [
        "This is consistent with our previous conclusion which states that the 3 most important features for admission to the Master are **CGPA**, **GRE SCORE**, and **TOEFL SCORE**."
      ]
    }
  ]
}